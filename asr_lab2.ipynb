{
 "cells": [
  {
   "cell_type": "markdown",
   "id": "04d0eabe",
   "metadata": {},
   "source": [
    "# Языковые модели\n",
    "\n",
    "Языковые модели играют важную роль в системах распознавания речи, помогая создавать более грамотные и лексически корректные тексты. В данной работе мы будем изучать нграмные языковые модели, которые позволяют довольно легко оценить вероятность и правдоподобность текста.\n",
    "\n",
    "В нграмной языковой модели, нграм - это последовательность из n слов в тексте. Например, в предложении \"по-моему мы сэкономим уйму времени если я сойду с ума прямо сейчас\", биграмами будут \"по-моему мы\", \"мы сэкономим\", \"сэкономим уйму\" итд. Языковые модели оценивают вероятность появления последовательности слов, исходя из статистики появления каждого из нграм в обучающей выборке.\n",
    "\n",
    "Порядком (order) нграм языковой модели называют максимальную длину нграм, которую учитывает модель. \n",
    "\n",
    "Практическая работа разделена на 2 части: \n",
    "1. Построение нграмой языковой модели - основная часть, 10 баллов\n",
    "1. Предсказание с помощью языковой модели - дополнительная часть, 6 балла\n",
    "\n",
    "\n",
    "\n",
    "Полезные сслыки:\n",
    "* arpa формат - https://cmusphinx.github.io/wiki/arpaformat/\n",
    "* обучающие материалы - https://pages.ucsd.edu/~rlevy/teaching/2015winter/lign165/lectures/lecture13/lecture13_ngrams_with_SRILM.pdf\n",
    "* обучающие материалы.2 - https://cjlise.github.io/machine-learning/N-Gram-Language-Model/"
   ]
  },
  {
   "cell_type": "code",
   "execution_count": 1,
   "id": "4bd5c324",
   "metadata": {},
   "outputs": [],
   "source": [
    "import numpy as np\n",
    "from collections import defaultdict\n",
    "from typing import List, Dict, Tuple\n",
    "import re"
   ]
  },
  {
   "cell_type": "markdown",
   "id": "b0c1c1d7",
   "metadata": {},
   "source": [
    "# 1. Построение нграмной языковой модели. (10 баллов)\n",
    "\n",
    "\n",
    "Вероятность текста с помощью нграмной языковой модели можно вычислить по формуле: \n",
    "$$ P(w_1, w_2, .., w_n) = {\\prod{{P_{i=0}^{n}(w_i| w_{i-order}, .., w_{i-1})}}} $$\n",
    "\n",
    "В простом виде, при обучении нграмной языковой модели, чтобы рассчитать условную вероятность каждой нграмы, используется формула, основанная на количестве появлений нграмы в обучающей выборке. Формула выглядит следующим образом:\n",
    "$$ P(w_i| w_{i-order}, .., w_{i-1}) = {{count(w_{i-order}, .., w_{i})} \\over {count(w_{i-order},..., w_{i-1})}} $$\n",
    "\n",
    "Поскольку униграмы не содержат в себе какого-дибо контекста, вероятность униграмы можно посчитать поделив кол-во этой слова на общее количество слов в обучающей выборке. \n"
   ]
  },
  {
   "cell_type": "code",
   "execution_count": 2,
   "id": "5837fe90",
   "metadata": {},
   "outputs": [],
   "source": [
    "# в первую очередь нам понадобится подсчитать статистику по обучающей выборке \n",
    "def count_ngrams(train_text: List[str], order=3, bos=True, eos=True) -> Dict[Tuple[str], int]:\n",
    "    ngrams = defaultdict(int)\n",
    "    # TODO реализуйте функцию, которая подсчитывает все 1-gram 2-gram ... order-gram ngram'ы в тексте\n",
    "    for _string in train_text:\n",
    "        if bos:\n",
    "            _string = '<s> ' + _string\n",
    "        if eos:\n",
    "            _string = _string + ' </s>'\n",
    "        words = _string.split()\n",
    "        for current_order in (range(1, order+1)):\n",
    "            for i in range(len(words) - current_order + 1):\n",
    "                ngram = words[i : i + current_order]\n",
    "                if tuple(ngram) not in ngrams.keys():\n",
    "                    ngrams[tuple(ngram)] = 1\n",
    "                else:\n",
    "                    ngrams[tuple(ngram)] += 1\n",
    "    # \n",
    "    return dict(ngrams)"
   ]
  },
  {
   "cell_type": "code",
   "execution_count": 3,
   "id": "fd69d44d",
   "metadata": {},
   "outputs": [
    {
     "name": "stdout",
     "output_type": "stream",
     "text": [
      "Test 1a passed\n"
     ]
    }
   ],
   "source": [
    "def test_count_ngrams():\n",
    "    assert count_ngrams(['привет привет как дела'], order=1, bos=True, eos=True) == {\n",
    "        ('<s>',): 1, \n",
    "        ('привет',): 2, \n",
    "        ('как',): 1, \n",
    "        ('дела',): 1, \n",
    "        ('</s>',): 1\n",
    "    }\n",
    "    assert count_ngrams(['привет привет как дела'], order=1, bos=False, eos=True) == {\n",
    "        ('привет',): 2, \n",
    "        ('как',): 1, \n",
    "        ('дела',): 1, \n",
    "        ('</s>',): 1\n",
    "    }\n",
    "    assert count_ngrams(['привет привет как дела'], order=1, bos=False, eos=False) == {\n",
    "        ('привет',): 2, \n",
    "        ('как',): 1, \n",
    "        ('дела',): 1\n",
    "    }\n",
    "    assert count_ngrams(['привет привет как дела'], order=2, bos=False, eos=False) == {\n",
    "        ('привет',): 2, \n",
    "        ('как',): 1, \n",
    "        ('дела',): 1,\n",
    "        ('привет', 'привет'): 1,\n",
    "        ('привет', 'как'): 1,\n",
    "        ('как', 'дела'): 1\n",
    "    }    \n",
    "    assert count_ngrams(['привет ' * 6], order=2, bos=False, eos=False) == {\n",
    "        ('привет',): 6, \n",
    "        ('привет', 'привет'): 5\n",
    "    }\n",
    "    result = count_ngrams(['практическое сентября',\n",
    "                           'второе практическое занятие пройдет в офлайне 32 сентября в 12 часов 32 минуты',\n",
    "                           'в офлайне в 32 12'], order=5)\n",
    "    assert result[('<s>',)] == 3\n",
    "    assert result[('32',)] == 3\n",
    "    assert result[('<s>', 'в', 'офлайне', 'в', '32')] == 1\n",
    "    assert result[('офлайне', 'в', '32', '12', '</s>')] == 1\n",
    "    print('Test 1a passed')\n",
    "    \n",
    "    \n",
    "test_count_ngrams()  "
   ]
  },
  {
   "cell_type": "markdown",
   "id": "ac6e1865",
   "metadata": {},
   "source": [
    "\n",
    "Простой подход к вычислению вероятностей через количество нграм имеет существенный недостаток. Если в тексте встретится нграмма, которой не было в обучающей выборке, то вероятность всего текста будет равна нулю. \n",
    "\n",
    "Чтобы избежать данного недостатка, вводится специальное сглаживание - add-k сглаживание ([Additive, Laplace smoothing](https://en.wikipedia.org/wiki/Additive_smoothing)). Данная техника позволяет учитывать нграмы, не встретившиеся в обучающей выборке, и при этом не делает вероятность текста равной нулю.\n",
    "\n",
    "Формула сглаживания Лапласа выглядит следующим образом:\n",
    "\n",
    "$$ P(w_i| w_{i-order}, .., w_{i-1}) = {{count(w_{i-order}, .., w_{i}) + k} \\over {count(w_{i-order},..., w_{i-1}) + k*V}} $$\n",
    "\n",
    "Здесь V - количество слов в словаре, а k - гиперпараметр, который контролирует меру сглаживания. Как правило, значение k выбирается экспериментально, чтобы найти оптимальный баланс между учетом редких нграм и сохранением вероятности для часто встречающихся нграм.\n"
   ]
  },
  {
   "cell_type": "code",
   "execution_count": 4,
   "id": "4cafb4b8",
   "metadata": {},
   "outputs": [],
   "source": [
    "# функция подсчета вероятности через количество со сглаживанием Лапласа\n",
    "def calculate_ngram_prob(ngram: Tuple[str], counts: Dict[Tuple[str], int], V=None, k=0) -> float:\n",
    "    # подсчитывет ngram со сглаживанием Лапласа\n",
    "    # TODO\n",
    "    try:\n",
    "        ngram_count = counts[ngram]\n",
    "    except KeyError:\n",
    "        ngram_count = 0\n",
    "    if len(ngram) > 1:\n",
    "        condition_count = counts[ngram[:-1]]\n",
    "    else:\n",
    "        condition_count = sum(value for key, value in counts.items() if len(key) == 1)\n",
    "    V = V if V is not None else len([key for key in counts if len(key) == 1])\n",
    "    prob = (ngram_count + k) / (condition_count + k * V)\n",
    "    return prob"
   ]
  },
  {
   "cell_type": "code",
   "execution_count": 5,
   "id": "60b25d7f",
   "metadata": {},
   "outputs": [
    {
     "name": "stdout",
     "output_type": "stream",
     "text": [
      "Test 1.b passed\n"
     ]
    }
   ],
   "source": [
    "def test_calculate_ngram_prob():\n",
    "    counts = count_ngrams(['практическое сентября',\n",
    "                           'второе практическое занятие в офлайне 32 сентября в 12 часов 32 минуты',\n",
    "                           'в офлайне в 32 12'], order=4)\n",
    "    assert calculate_ngram_prob(('в', 'офлайне'), counts) == 0.5\n",
    "    assert calculate_ngram_prob(('в', ), counts) == 4/25\n",
    "    assert calculate_ngram_prob(('в', ), counts, k=0.5) == (4+0.5)/(25+0.5*12)\n",
    "    assert calculate_ngram_prob(('в', 'офлайне', 'в', '32'), counts) == 1.0\n",
    "    assert calculate_ngram_prob(('в', 'офлайне'), counts, k=1) == 0.1875\n",
    "    assert calculate_ngram_prob(('в', 'офлайне'), counts, k=0.5) == 0.25\n",
    "    assert calculate_ngram_prob(('в', 'онлайне'), counts, k=0) == 0.0\n",
    "    assert calculate_ngram_prob(('в', 'онлайне'), counts, k=1) == 0.0625\n",
    "    assert calculate_ngram_prob(('в', 'офлайне'), counts, k=0.5) == 0.25\n",
    "\n",
    "    print(\"Test 1.b passed\")\n",
    "    \n",
    "\n",
    "test_calculate_ngram_prob()  "
   ]
  },
  {
   "cell_type": "markdown",
   "id": "da494bf0",
   "metadata": {},
   "source": [
    "Основной метрикой язковых моделей является перплексия. \n",
    "\n",
    "Перплексия  — безразмерная величина, мера того, насколько хорошо распределение вероятностей предсказывает выборку. Низкий показатель перплексии указывает на то, что распределение вероятности хорошо предсказывает выборку.\n",
    "\n",
    "$$ ppl = {P(w_1, w_2 ,..., w_N)^{- {1} \\over {N}}} $$\n"
   ]
  },
  {
   "cell_type": "code",
   "execution_count": 6,
   "id": "4bd1f2e5",
   "metadata": {},
   "outputs": [],
   "source": [
    "# Языковая модель \n",
    "class NgramLM:\n",
    "    def __init__(self, order=3, bos=True, eos=True, k=1, predefined_vocab=None):\n",
    "        self.order = order\n",
    "        self.eos = eos\n",
    "        self.bos = bos\n",
    "        self.k = k\n",
    "        self.vocab = predefined_vocab\n",
    "        self.ngrams_count = None\n",
    "        \n",
    "    @property\n",
    "    def V(self) -> int:\n",
    "        return len(self.vocab)\n",
    "    \n",
    "    def fit(self, train_text: List[str]) -> None:\n",
    "        # TODO\n",
    "        # Подсчет vocab и ngrams_count по обучающей выборке\n",
    "        ngrams = defaultdict(int)\n",
    "        for _string in train_text:\n",
    "            if self.bos:\n",
    "                _string = '<s> ' + _string\n",
    "            if self.eos:\n",
    "                _string = _string + ' </s>'\n",
    "            words = _string.split()\n",
    "            for current_order in (range(1, self.order+1)):\n",
    "                for i in range(len(words) - current_order + 1):\n",
    "                    ngram = words[i : i + current_order]\n",
    "                    if tuple(ngram) not in ngrams.keys():\n",
    "                        ngrams[tuple(ngram)] = 1\n",
    "                    else:\n",
    "                        ngrams[tuple(ngram)] += 1\n",
    "        self.ngrams_count = dict(ngrams)\n",
    "        self.vocab = self.vocab if self.vocab is not None else [key for key in self.ngrams_count if len(key) == 1]\n",
    "        pass\n",
    "                \n",
    "    \n",
    "    def predict_ngram_log_proba(self, ngram: Tuple[str]) -> float:\n",
    "        # TODO \n",
    "        # считаем логарифм вероятности конкретной нграмы\n",
    "        ngram = tuple(ngram) if isinstance(ngram, list) else ngram\n",
    "        try:\n",
    "            ngram_count = self.ngrams_count[ngram]\n",
    "        except KeyError:\n",
    "            ngram_count = 0\n",
    "        if len(ngram) > 1:\n",
    "            try:\n",
    "                condition_count = self.ngrams_count[ngram[:-1]]\n",
    "            except KeyError:\n",
    "                condition_count = 0\n",
    "        else:\n",
    "            condition_count = sum(value for key, value in self.ngrams_count.items() if len(key) == 1)\n",
    "        prob = (ngram_count + self.k) / (condition_count + self.k * self.V)\n",
    "        return np.log(prob)\n",
    "           \n",
    "    def predict_log_proba(self, words: List[str]) -> float:\n",
    "        if self.bos:\n",
    "            words = ['<s>'] + words\n",
    "        if self.eos:\n",
    "            words = words + ['</s>']\n",
    "        logprob = 0\n",
    "        # TODO \n",
    "        # применяем chain rule, чтобы посчитать логарифм вероятности всей строки\n",
    "        for i in range(1, len(words) + 1):\n",
    "            ngram = tuple(words[max(0, i - self.order):i])\n",
    "            logprob += self.predict_ngram_log_proba(ngram)\n",
    "        return logprob\n",
    "        \n",
    "    def ppl(self, text: List[str]) -> float:\n",
    "        #TODO \n",
    "        # подсчет перплексии\n",
    "        # Для того, чтобы ваш код был численно стабильным, \n",
    "        #    не считайте формулу напрямую, а воспользуйтесь переходом к логарифмам вероятностей\n",
    "        #\n",
    "        words = []\n",
    "        for _string in text:\n",
    "            if self.bos:\n",
    "                _string = '<s> ' + _string\n",
    "            if self.eos:\n",
    "                _string = _string + ' </s>'\n",
    "            words.extend(_string.split())\n",
    "\n",
    "        logprob = 0\n",
    "        for i in range(1, len(words) + 1):\n",
    "            ngram = tuple(words[max(0, i - self.order):i])\n",
    "            logprob += self.predict_ngram_log_proba(ngram)\n",
    "        perplexity = np.exp(-logprob / len(words))\n",
    "        return perplexity"
   ]
  },
  {
   "cell_type": "code",
   "execution_count": 7,
   "id": "bb0bfe64",
   "metadata": {},
   "outputs": [],
   "source": [
    "def test_lm():\n",
    "    train_data = [\"по-моему мы сэкономим уйму времени если я сойду с ума прямо сейчас\",\n",
    "                  \"если я сойду с ума прямо сейчас по-моему мы сэкономим уйму времени\",\n",
    "                  \"мы сэкономим уйму времени если я сейчас сойду с ума по-моему\"]\n",
    "    global lm\n",
    "    lm = NgramLM(order=2)\n",
    "    lm.fit(train_data)\n",
    "    assert lm.V == 14\n",
    "    assert np.isclose(lm.predict_log_proba(['мы']), lm.predict_log_proba([\"если\"]))\n",
    "    assert lm.predict_log_proba([\"по-моему\"]) > lm.predict_log_proba([\"если\"]) \n",
    "    \n",
    "    gt = ((3+1)/(41 + 14) * 1/(3+14))**(-1/2)\n",
    "    ppl = lm.ppl([''])\n",
    "    assert  np.isclose(ppl, gt), f\"{ppl=} {gt=}\"\n",
    "    \n",
    "    gt = ((3+1)/(41 + 14) * 1/(3+14) * 1/(14)) ** (-1/3)\n",
    "    ppl = lm.ppl(['ЧТО'])\n",
    "    assert  np.isclose(ppl, gt), f\"{ppl=} {gt=}\"\n",
    "    \n",
    "    test_data = [\"по-моему если я прямо сейчас сойду с ума мы сэкономим уйму времени\"]\n",
    "    ppl = lm.ppl(test_data)\n",
    "    assert round(ppl, 2) == 7.33, f\"{ppl}\"\n",
    "test_lm()"
   ]
  },
  {
   "cell_type": "markdown",
   "id": "edafa0a2",
   "metadata": {},
   "source": [
    "# 2. Предсказания с помощью языковой модели (6 балла)"
   ]
  },
  {
   "cell_type": "code",
   "execution_count": 8,
   "id": "85d2eb63",
   "metadata": {},
   "outputs": [],
   "source": [
    "def predict_next_word(lm: NgramLM, prefix: List[str], topk=4):\n",
    "    # TODO реализуйте функцию, которая предсказывает продолжение фразы. \n",
    "    # верните topk наиболее вероятных продолжений фразы prefix\n",
    "    # Предобработка фразы prefix\n",
    "    prefix_words_list = []\n",
    "    for _string in prefix:\n",
    "        prefix_words_list.append(_string.split())\n",
    "    \n",
    "    # Считаем вероятности для n-грамм, которые состоят из префикса и каждого слова в словаре модели\n",
    "    candidates_list = []\n",
    "    for prefix_words in prefix_words_list:\n",
    "        candidates = {}\n",
    "        for word in lm.vocab:\n",
    "            ngram = prefix_words[-(lm.order - 1):] + [word[0]]\n",
    "            ngram_logprob = lm.predict_ngram_log_proba(ngram)\n",
    "            candidates[word] = ngram_logprob\n",
    "        candidates_list.append(candidates)\n",
    "\n",
    "    # Сортируем полученные вероятности, возвращаем topk слов с наиболее высокими вероятностями\n",
    "    candidates_sorted_list = []\n",
    "    for candidates in candidates_list:\n",
    "        sorted_candidates = sorted(candidates.items(), key=lambda x: x[1], reverse=True)\n",
    "        sorted_words = [word[0] for word, _ in sorted_candidates[:topk]]\n",
    "        candidates_sorted_list.append(sorted_words)\n",
    "    #return word\n",
    "    return candidates_sorted_list\n",
    "    "
   ]
  },
  {
   "cell_type": "code",
   "execution_count": 9,
   "id": "94ba5563",
   "metadata": {},
   "outputs": [
    {
     "data": {
      "text/plain": [
       "[['прямо', 'по-моему', '<s>', 'мы']]"
      ]
     },
     "execution_count": 9,
     "metadata": {},
     "output_type": "execute_result"
    }
   ],
   "source": [
    "prefix = [\"вот бы сейчас сойти с ума\"]\n",
    "predict_next_word(lm, prefix)"
   ]
  },
  {
   "cell_type": "markdown",
   "id": "3fc4846b",
   "metadata": {},
   "source": [
    "Попробуйте обучить ngram языковую модель на нескольких стихотворениях. Не забудьте трансформировать стихотворение в удобный для ngram модели формат (как сделать так, чтобы модель моделировала рифму?). \n",
    "Попробуйте сгенерировать продолжение для стихотворения с помощью такой языковой модели. "
   ]
  },
  {
   "cell_type": "code",
   "execution_count": 10,
   "id": "107862fe",
   "metadata": {},
   "outputs": [],
   "source": [
    "#Your code here\n",
    "def preprocess_text(text: str) -> List[str]:\n",
    "    text = text.lower()\n",
    "    return \" \".join(re.findall(r\"\\w+\\b\", text))\n",
    "\n",
    "def get_train_data_for_poems(file_path: str) -> List[str]:\n",
    "    with open(file_path, 'r') as file:\n",
    "        data = file.read().splitlines()\n",
    "    train_data = []\n",
    "    for line in data:\n",
    "        if line:\n",
    "            train_data.append(preprocess_text(line))\n",
    "    return train_data"
   ]
  },
  {
   "cell_type": "code",
   "execution_count": 11,
   "id": "4f3524cc",
   "metadata": {},
   "outputs": [
    {
     "data": {
      "text/plain": [
       "[['ней', 'лесу', 'небе', 'ночи'], ['мир', 'омертвелых', 'тыщу', 'каменные']]"
      ]
     },
     "execution_count": 11,
     "metadata": {},
     "output_type": "execute_result"
    }
   ],
   "source": [
    "# Возможно, удобный для ngram модели формат – список из строк нескольких стихотворений (?)\n",
    "# Можно попробовать взять стихи только одного стихотворного размера, например, ямба\n",
    "train_data = get_train_data_for_poems(\"poems.txt\")\n",
    "lm = NgramLM(order=2)\n",
    "lm.fit(train_data)\n",
    "prefix = [preprocess_text(\"Испытанный, стою на грани. Земных свершений жизни жду. Они взметнутся в урагане, В экстазе, в страсти и в\"),\n",
    "          preprocess_text(\"Но возрожденья весть живая Уж есть в пролётных журавлях, И, их глазами провожая, Стоит красавица степная С румянцем сизым на\")]\n",
    "predict_next_word(lm, prefix)"
   ]
  }
 ],
 "metadata": {
  "kernelspec": {
   "display_name": "itmo_labs",
   "language": "python",
   "name": "python3"
  },
  "language_info": {
   "codemirror_mode": {
    "name": "ipython",
    "version": 3
   },
   "file_extension": ".py",
   "mimetype": "text/x-python",
   "name": "python",
   "nbconvert_exporter": "python",
   "pygments_lexer": "ipython3",
   "version": "3.10.14"
  }
 },
 "nbformat": 4,
 "nbformat_minor": 5
}
